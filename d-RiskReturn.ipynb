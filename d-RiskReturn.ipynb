{
 "cells": [
  {
   "cell_type": "markdown",
   "id": "6ffd939f",
   "metadata": {},
   "source": [
    "## Risk and Return\n",
    "**Return** is the **gain or loss** you make on an investment over time.\n",
    "\n",
    "Return = ((Ending Value - Starting Value) / Starting Value) × 100%\n",
    "\n",
    "\n",
    "**Types of Return**\n",
    "- **Daily Return** – % change in price day to day\n",
    "- **Annual Return** – Total return in one year\n",
    "- **Cumulative Return** – Total return over multiple years\n",
    "- **Dividend Return** – Income received from dividends\n",
    "\n",
    "Example\n",
    "You buy a stock for $100 and sell it for $120:\n",
    "Return = ((120 - 100) / 100) × 100% = 20%\n",
    "\n",
    "\n",
    "\n",
    "**Risk** is the **uncertainty or volatility** in an investment’s returns — how much its value may go up or down.\n",
    "\n",
    "> More ups and downs = more risk.\n",
    "\n",
    "**Types of Risk**\n",
    "| Type                 | Description                                      |\n",
    "|----------------------|--------------------------------------------------|\n",
    "| **Market Risk**      | Price falls due to market-wide events            |\n",
    "| **Interest Rate Risk** | Value drops when interest rates rise           |\n",
    "| **Credit Risk**      | The company might default on debt                |\n",
    "| **Liquidity Risk**   | Hard to sell the investment quickly              |\n",
    "| **Volatility**       | How much the price fluctuates (a key measure)    |\n",
    "\n",
    "**How is Risk measured**\n",
    "- **Standard Deviation of Returns** – More variation = higher risk\n",
    "- **Sharpe Ratio** – Return per unit of risk (higher is better)\n",
    "- **Beta** – Volatility relative to the market (beta > 1 is riskier)\n",
    "\n",
    "\n",
    "> The **higher the return**, the more **risk** you're usually taking on.\n",
    "\n",
    "| Investment Type    | Expected Return | Risk Level     |\n",
    "|--------------------|------------------|----------------|\n",
    "| Savings account     | Low (1–3%)       | Very low       |\n",
    "| Government bonds    | Low–moderate     | Low            |\n",
    "| Blue-chip stocks    | Moderate (7–10%) | Moderate       |\n",
    "| REITs               | Moderate         | Moderate       |\n",
    "| Crypto/startups     | High (20%+)      | Very high      |\n",
    "\n",
    "\n",
    "\n",
    "### Importing the required packages\n",
    "- Yahoo Finance ( `yfinance` )\n",
    "- Date time ( `datetime` )\n",
    "- Plotly ( `plotly` )\n",
    "- numpy ( `numpy` )"
   ]
  },
  {
   "cell_type": "code",
   "execution_count": 13,
   "id": "46d68800",
   "metadata": {},
   "outputs": [],
   "source": [
    "import datetime as dt\n",
    "import numpy as np\n",
    "import yfinance as yf\n",
    "import plotly.graph_objects as go\n",
    "from plotly.subplots import make_subplots\n",
    "import plotly.express as px"
   ]
  },
  {
   "cell_type": "markdown",
   "id": "62768f57",
   "metadata": {},
   "source": [
    "Next, we are going to define the starting date and ending date, for the ending date, it is going to be the current date, for the starting date, we are going to use `timeDelta` and choose a date 3 years from current date "
   ]
  },
  {
   "cell_type": "code",
   "execution_count": 14,
   "id": "51be1cd1",
   "metadata": {},
   "outputs": [
    {
     "name": "stderr",
     "output_type": "stream",
     "text": [
      "[*********************100%***********************]  5 of 5 completed\n"
     ]
    }
   ],
   "source": [
    "enddate = dt.datetime.now()\n",
    "startdate = enddate - dt.timedelta(days=365*3)\n",
    "stocks = [\"AAPL\",\"MSFT\",\"AMZN\",\"GOOGL\",\"NVDA\"]\n",
    "df = yf.download(stocks,start=startdate,end=enddate,auto_adjust=True)\n",
    "closeData = df['Close']"
   ]
  },
  {
   "cell_type": "markdown",
   "id": "76ea32ba",
   "metadata": {},
   "source": [
    "Here we are calculating the log of returns, for this we are going to use `numpy` and the `log` method defined in it. \n",
    "\n",
    "This  calculates the logarithmic returns of the `closeData` prices. It divides each day's closing price by the previous day's closing price, then takes the natural logarithm of that ratio. The `.dropna()` removes the first row which is NaN because there is no previous day’s price for the first data point. The result is a series or DataFrame of daily log returns."
   ]
  },
  {
   "cell_type": "code",
   "execution_count": 15,
   "id": "d0ef8c61",
   "metadata": {},
   "outputs": [
    {
     "name": "stdout",
     "output_type": "stream",
     "text": [
      "Ticker          AAPL      AMZN     GOOGL      MSFT      NVDA\n",
      "Date                                                        \n",
      "2022-07-06  0.009561  0.007286  0.011491  0.012701  0.011032\n",
      "2022-07-07  0.023716  0.017342  0.036095  0.008193  0.046994\n",
      "2022-07-08  0.004704 -0.006814  0.004791 -0.002761 -0.001262\n",
      "2022-07-11 -0.014868 -0.033353 -0.031292 -0.011839 -0.044280\n",
      "2022-07-12  0.006811 -0.022900 -0.014419 -0.041845 -0.004631\n",
      "Ticker\n",
      "AAPL     0.280670\n",
      "AMZN     0.349291\n",
      "GOOGL    0.322567\n",
      "MSFT     0.263184\n",
      "NVDA     0.535275\n",
      "dtype: float64\n"
     ]
    }
   ],
   "source": [
    "logReturns = np.log(closeData / closeData.shift(1)).dropna()\n",
    "dailyStdDev = logReturns.std()\n",
    "annualizeStdDev = dailyStdDev * np.sqrt(252)\n",
    "print(logReturns.head())\n",
    "print(annualizeStdDev)"
   ]
  },
  {
   "cell_type": "code",
   "execution_count": 16,
   "id": "24b70374",
   "metadata": {},
   "outputs": [
    {
     "data": {
      "application/vnd.plotly.v1+json": {
       "config": {
        "plotlyServerURL": "https://plot.ly"
       },
       "data": [
        {
         "name": "AAPL",
         "type": "histogram",
         "x": {
          "bdata": "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",
          "dtype": "f8"
         },
         "xaxis": "x",
         "yaxis": "y"
        },
        {
         "name": "MSFT",
         "type": "histogram",
         "x": {
          "bdata": "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",
          "dtype": "f8"
         },
         "xaxis": "x2",
         "yaxis": "y2"
        },
        {
         "name": "AMZN",
         "type": "histogram",
         "x": {
          "bdata": "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",
          "dtype": "f8"
         },
         "xaxis": "x3",
         "yaxis": "y3"
        },
        {
         "name": "GOOGL",
         "type": "histogram",
         "x": {
          "bdata": "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",
          "dtype": "f8"
         },
         "xaxis": "x4",
         "yaxis": "y4"
        },
        {
         "name": "NVDA",
         "type": "histogram",
         "x": {
          "bdata": "SoogPQ+Yhj96jHG+qA+oP9KjVtiUrFS/Nrrw682rpr9oaeBbyPdyv01X9g3INXY/Bj1CJKvmiz8U+Ktsy6eZP7yER5ZLypU/MbNWR7GTqz8K78+VlvynPyJQqPBAwos/zBg2Krkqpb95gn/2nJeRvy/aQcvY952/KVMAE13Csj/u0PnNRzaGP1hF9MWuSIQ/zph1j94bjz84F26K89VyP6r6yTZKFpQ/DaVH0TpOkT9ANZD4ETuIv0eIPi5rp7C/mQtVC2nCpL9+KgqV6G6tP4iDyinsnYG/zrDTy7JupT/MQP3cMIeRP5zC+Y7bh4C/6yWsRrrwnb+r99xYuyyYP7uinsp/16m/yz+pqsvtp7+xlWwHA5mBP21LV1/chmM/3e2X9jskpD/sg/pfGcm4v5h/jXFtUp2/xJKwwqXPlb9fZCVGPhCZvzwi1VyBarS/KbwE3TOIlb/8lyTsMn+Lv9ZsgStKEZM/HzQvVWhnlD+R0gatWKecP/wrwUeluoA/R8H8Rv15ub/7o55Vo/Itv5wZXWs9SI+/Y8eBSDMWlT+Vf1Hg1FqMPyx/KZOIxY+/N6W7QddWej+fid7pJcSrv5hW1iJDZm2/wO3It4fWl78BnlYll8COPxMNhYMLTpo/QNE2l/Aspb8b+QPJuD17v3JM9cq3/Z4/XRFfvAQgqj9Xpkg63BZqPxbqCxgQkni/H2STEglstb/RDUWEeYKhv5wwCIgAl32/lgU3fjqEfr86/O+SvhSkPxWCyovnMLC/5hkk9lRKrT/tjocPNyF7PzdErjWXpnw/pk50ob8oiD9pyFAeIJeWP/PWD3sBvIU/s0Z3NDI4qj8cEODGipScv9kmcfbU/pU/syLncnTzqD/mHwMTAUGZv06rnbqu32s/DFU9+bvLmL/e4XTtDw+PP1r58pN8TKs/CpL/BvvehD9gAu9lM1SVP1JbMMBk0K2/SdmtWgokwT9FE3CG7WuiP6PEPbUUEmC/L3mhj4INlz92XcRpvcSnv+v2sJTaNo6/I9wZliSokb+RSVolSId4v1XoLk/5jKc/Hol9mX9Cnj8EfIF7JRuPv5rIEl2fRJy/vY1jpgp5iL/oSJfV7kO0P/gUZSs6f4k/ETd2Bl8xj78LWlbDv0SQv7dJ1+HBkqO/Eb2s5qb3gD9soTowryOwP55hSE90I4S/pFuyKUernz+PlI11juOePxEHFve9zZa/MesYJ+Bapb8KZqe7A0eXvwO59MFEx5O/zG38q9pnhb/tg1dLiSWaP3OoshmWsbK/Wiu/ksfVgb9SqGgUcPOyv+vJ50G/uni/nNYqQqNGpD+Dd+okAa1IP633E7MNK5W/wDtzVoyVnj9jp3qIZxWhvxvZqFhS46Q/yOayl7LVqT966yWNoT+SP6qBDj0gnnc/nnfo/ngQoD810Mep68iXPxdpylPRxKc/eGlo4Ib5kr/FnZOEgluiv1uVvCvFyq8/86EnWYe6sj98UQa6zKtuP3h0Xa3DoGg/nH38Tw4TmT+v7CckIbWcPxHO7sbFLK+/6rNzDZfYkz94jML1YsqxPwxf7tdqZKI/JU58uAojnb90O+aDyxRBv8Of0qzQqak/Xsz6lRahVz/88Ncwx0Z4P0lj40piLqm/S39WHErhmD/zjjFAMhKrP74+gbH/iYK/BYMQaJZuob8vqKRAk/ucv4qHpMXS2qG/1fgBUACWcz8bxXSQrMvAP2fsdpItfZC/3H7TjY7Sgj8cbU63Df2Iv7VvVPQuG5e/cDIHQHRrmz+AeuOK3/2YP0IUoY4TAo2/sIbQaqDphr/QbH0FHESjP3hGWinBBaC/cZ7xUw/KlL+vb1ovT9UGP+esGbXh46c/dn6Cipn9ez+FYSrfeAWrP4ILCpHWZn0/o1B7SzbFez8YTNMN3YGHPzJZf7Sr64Q/K2YdELGYmz9xs6ly3kSPvwg8soICDoO/xXEw0hW5cr/IF5OyZQSWP1saQSuzD44/kTCLWf1BjT8H10GH4qB7PyqCEc3w65K/4+ETC6GPlb+u5vRBqLN3P/3WbyEeU5Q/tMaq48usjr+UtQJfObmZvzFMzEgXzVO/tbv1Bki0hj+G/RJjLpeCP3nkA/XU6Zg/r2ZC8x1zgz8HUE1D+Maev0ICH2gvIEI/JAlnvqtKZ78PDjVyM8qev+VQ030ph5s/0+4H7kVphD9zmABN7XuTPwGlb+Va/KQ/+kPCynQZmb/O+PYKD9aNv72D8wiGwYG/cXEVpq9bpD9cvZZRGK6QP2Yxh8lQlJS/+LHjmaRihj9Ap+0wOOKFv16BQv2HIIG/R4P95b7plT9ps+l1Kk+CPxG8ldbAo6A/2PvsYTLWqD+dPVggFfGKv9s/6dY7F2e/L2RJ89AnkL8j0CF7yxF0v1kR4E9N6ss/A0vsGBO4mT9iLmGqnS6ePzD8lBcu7K2/bkxLiCGNqT8f8LVD+fCGv8n46RaXR3C/dO+NY+c1i79VZBOZG52fv5Qu7gjZ5Zs/LHEhHraPez8/gdhMgqKSPxJtVRhJl6M/5U3DJUITqD8zdt1mdnOAv5NMmu2q8U0/crvc7Zpsmj9Rk5dx8v2Rv5XzFrcIdD6/nFbpU4abk7/MDE6R5n6jv/fDf01y4Z4/BbNgk+i6kr8oUoAnY359v5C/zsTmO6I/IU06Bn53ZT9W3sd+8I9ivwRkJH89xHS/vitlo4hdgz+8tkyqAT9/v06PjFhVynU/S88YaF7DoT9V7S2gGKWnP2RRzsUWwYa/fGHy5bcZlj8Q5FDqk4SWP924GvSnD4K/H7F2P004ob9B8tWPdpybv45cfxYi6ns/zED4x/czmD/Hh9SjwGd0v7SLWtBmFoQ/6a+8VxbKkj9KH3rBG3E9v0gvhHZtgXO/XUxWWDdAqb9XU1yXlLJ2P//arynCTm4/MEJk79jAkD/3TXVwrR6Rv3JXq18bx6i/QPvFKmcCcL+RFbhZL9yiv6d0Wcc+i7E/vbIc4Sp4cT/A2Z+HTUWFvxLKLPxdy2q/q4PTqxkFUb85DBGZHNG0Py8vHdR2uJy/t3uwxsv2nz9LVPXJ01VQP9r1kLi+Kpm/8Y3clUYFkj+MYWorAOCkP4PHawB2DYQ/iyyhPGQ8Xj8OEYjgY7SRvzhpyND1VUo/7HpwU0jFn79G0JVX9v+Rv0bnAKmN2I2/JX+DnZTIgb/XMGfZAAV8v6XEb8s94Ys/bX9KK6hFYT/TYv6lQz2jv1JSIlOVnFg/qTADw5nhhL+Z/57M95eevyXfM2PYD56/Md1qsY1ljT+TmdVoIueNP/WzXnxfSH6/NkyuX+gJiz8Mce8RDLuNP0kCRs0rZYM/DsVjcRjEnT9awBeZsFedvyJowgqDg4g/vQ/ojizejT9BmOR3p1GYP3PVL7OJAIa/xL9J4duchz9K6HLqGUuWPwLyWmHuSmg/FlBF/ktyoL/AtRoaUF2MP91/AZGfiai/kqiuNmu2pL9ZJdwwlHZiv3JPiITog5G/rw8hpxlHoz9cwSgqgUOQPycPzcs+laa/JskSf5cfor/o93vfuKJxP9A+4G/jk5A/ZojQlY0Lg7/ZH+pfFAqjP3V8AZBlLpw/ym5C4ghYoT8m9V4AqNWQPz4pRyM4OXI/6YxHD9Vmiz8e2o9/sHeAP09hQA0zxZ0/27u3Eq0UeD8i9P9ZH5eVP1GvG7w97I+/T11DmbumiD+ufsCfHDBuv9t/62Eu0pY/YpxO/sz6gr+1HJb6B36ZvyB18x6j85O/f3jdFwzhgz+VRJuddvOBv4qHPfKRO3s/6k3Ek3WQnb8VJO8GFwwcv4ErzoYh25u/BKCWn0uUlz9hLQnbjaWXv2qUs5ZjTpg/z7hTOjbOkz/Lerst3R+TvxCOPh/MX5Y/ymzZKj9wgj/qjfvMUEF2P32pKDAYv4Y//OU/TpGQmD8KmLdRt2+DvxpzAXVPS5+/Ac6sOUWKkj+P74kBjcxqv/rDRUjVvoI/6LLj3NDoZj+Wx6y7RGNhPwAAAAAAAAAAUsJDbTRjnL8ktnUuuKCJv/DUG3IjY4I/sOknWpEulz9e1tnFsuWvPyYKalaWPJE/uUSmUBUOlz+VoSyAdrWBPzO0/FUYwWC/RTntlnrTnj+3B8YFkfh3v7fQeQp5E5M/FyEEFKLwpD9PbnryOGpmP9nkmYXnBG4/AYvZfZQnmT+MEsj0gPxwP9NFIVcHkoO/iiCEfybIlz/6nh+sTzZ0Pz0TsD3mi5S/Ptqt3k2qmD/UyB0ur9aoP65wLFkp+qc/Z3uRHwSDkL918rOzEsebP7wdFShx2Xq/rYPQ7EYAoj/LHDKZTRlaP6kvOu91PFu/MIKLXWPamD+R9k/0MFuRv7iT1wRZTUS/eF8KG8PJpr+KifCaAJ6dv/slqI53cMM/CRB+Es0MbT99jCJRrYhsP3X3S/XFTHS/NkGqlNwwi79O9/Ku5e2SPwaeoR28GKQ/Sx75Dm4Voj9wkua9Zn2BP3PhFqCmCqA/cLuofY1ppj+LLopB8jitv+4n8SKJupS/QvM3x0WysT+q3RugnPeGvzivNfXo26C/ZZgK/pDyU7/JQeB6w7d8P/sxw63Xt4U//E+tZjcxhj8HxjT15fKHPwAa3LhWeZ8/iq23d0Hbfj+PRRW3oqeavzHzD9kg5Jm/V6qyhLM7Uz9AGGVLBk4UPydxQjB2wIS//p8b6SFodr998J1qLuqhv+kT/n8jxJg/QpGGrK92hL92ZgnfpB+Vv14QbT+vBJQ/+1cfWdmepD/ewM//uNWbv+yusfkFsZm/7Hs/0A6zkD9UIpnyozCkv/tn0mgR4n4/s70W+UD8ur/ZT9VuiNKlP2fa2XUDX6I/S2G7Dy5Zob91KvDhHaWiP/BgXF9Xrq4/l+I7785tMD/e/UfITd6Pvx5wWsJ5UKS/b1gezQHWoD9oTNRjbm6hP8+tUji996I/Yx2UQ4vHkb+g0diPa7ZZv4KvRImRCJO/mY6OlFbviT9A5ie81qx3P/uyvlQmkYU/sWqUqBwHoj83l9luWH5nv5A49SSum5S/zQ71lrcqmT9Z22CD6Bp6PzELGrjew3K/wF3cUqXPtj9nFew/ygGaP0xRqWsYRrE/mFnN6/qLgD+b0wOQV6ijv67KJNjSIYC/Hx/LqGt4qD/OYZ5qtW6JP+GRWX0Wvak/yJ1FR0VDiL8cS3kvgc1NvybqWJvLcn4/SN+mTOddfb8oC2Pl89mhP0ookApguaE/lCb884HHkT+Lw7ZzcQx8v9KmW408rKE/gLhibod0or9pvzUT08Cgv21vtBy4tbG/SNkMfLa8sD+9GITFth1kP0Nv2JpwtpO/D1UtttzIbb/46Qx66B55P3WAR8a6CIu/dY+hsDjlpj9c0i2SE7+Tv8qhtNOEG5M/bwVf/C4XmT8b5udNfCabP36aF8BMU62/4urXqAZejT94Pcuc/G55vxo2jKAEuJC/uD+zB4SLsb9qLCe3eo6aP7SPgM7NE5u/VSmcQGnLpz+mUzw/pZ5/v8lHu3BuCbK/1FE/3YnPkb/vN6v+H1t8P5wncstuzYq/7gxuYMCysr9FDBEBlty+Pz2IkGS1rrG/69gbD5lakr+/DwmD/NCwv0reCbnuAqM/PWMcPfPrqr+5ZunXF3KuP73LQQrxL2G/7EZlHPV0pD9dn1itITKwP0T9jUCw9pA/gzpmg1pRpD/4yhKp53iMP04NqrjlzaU/rFwnJODklb9TXAWjGQWEP/3iGcV+U6O/NCMq1OXHpj9ftrST4UuXv1r88vmBlY0/HXokYq+ylb/AhciJ7eOwv6oS3T3gxI4/CQn32vCfub+wMfbiNB2RvwLneUFBMYM/kZbd6FBbpb+zweJSe8+hP6zdDHe4HY8/PJuucpgOtD/FX6XImm+TPz2KOjsSAja/ZFhhSc4klL9zQ36E9vmEvxHSdO6q25O/IQiucQ3uoz/Fqb3gPGCQv5cndUhFV2I/uEgIue/ooz8i7DttBCCWP/iDXs71iXE/cnzPyI0Hlr/KQ+AOS5Y1Pz3nZKXzEaO/GRiFWI8QkD8Yc9s3vfKgP92Sq89EHJE/SHlw3+qylj/nnLndGlGkP5NDRLJBnl2/S/X+/kCKkD+IhOP/B2kTv3XrQ2M+i5g/2FypwqaSqL8zg5jrDpGfP1d+LJKSLYI/OMJQRufhfz/LwF7kJsKkPzMf7tIVX0u/wVpHJJQmnb/fTwT9FN94P+ACXgl5aoA/6Va+TLaffb+BgFv6GDl1PyAdvznc4Yu/O7kRB3jEqL/80pQTtSmUP4E5mdnJnXM/WTX1SPSlnD+c+ZRLBnKkPzrfQ3byvZY/bcEjUp5Egb8XQkWahpKQv70sIMPXI5U/Qr7d7dkWjL+Yf0LSYWVrP+vr/nIY9KC/shyhaJeRir+iYhkOl3eoP+zzb+UlU3+/2/A26FjXdT/0j/+ia7+gv6Q/PgE32aW/z75dDEEDez8oX3oqTcWHvykRzL/ByJU/6YLHnTJ8Zj+GudTFoPCHP1W83E/JgqE/LIHbd26eP7/Z5YGmAKqSv8hdvf40b5q/4Xy6oeP3m7/KaXasdKafP74luyzwKo2/IImWbExNl78Ep1mFu06Rv9zc7ov8IYm/x9K8xQRhh79i74oFte2LP+6nQRKYBp8/mphn1wyNoj8NWxt/JRlwPyV3ymjr9WC/rq2Hpi+Ylb9SF0UwQ6ZsP+PUDLJcHZi/132sASs0nj9ZIntcYU+mP7uAwL15SKE/KmsgZYBusL+zcUvPCA0sv4PMQH1PKp+/z2Hy695klL9r+2JP8riGv/NO75KIHqE/BOnBFXNElL957MnWw0GfPw53obns8JY/7q5IDKsypj+z4GCsVLNQP+mT4EDOQKC/cmoICRXNx794OEmOKOO1P5G5HSK8cKW/ohPGLzVWfz/qmK0zqyqjvwejhzKsgJ2/+wRVEPhRkT8gt/EOKP+pP6B/PY/QGp8/FWgHxRthgj+p5k+PrQCdP6DSz883rne/Do593vPCib+4Mp4VIOefP1B+v+7VmJo/QXVTQVIxcD+Rfh8kcP5Tv4FyKEa3znk/xaca+FEwpb8z/8DJGQ6gv3oJKNM2GZ2/JluZgNp2oj/lE0567q22v+46YBD17qM/JiX6Tm1It79k/EDjmi6RPwzGz5ssAIc/akuQHINArr8qi1KHnHKTP79R00WXn6q/V7Sf9dXlkD/F9j6UFeWvP6zE8Zk8qla/j3B5NnxKqj8tgLCTxSuSv6xDSfvR3qG/paHWA/hfkj+w7LGRpIaBP7hdd5JpyHy/z6hu43LHnz9QWOzn4Vx4v+e3U0raRq6/Phhz/Okwlb/ePCbFh02Qv+8q5FKFO4i/tJb8tZiWkD8kBkj5QQ5kP5OJdpXXzrS/g33H8nKQs7+L9rArMsShPxMze1oLTYy/uNDJ9qn3xT+O7gZqeDSvv5Gs+zzofp8/RjuDLEtDYL9656e0H2GLPy1F4USdObK/LbCAtYzUnb+I8Tf7kqSnv833nlj1tZQ/pvGy/s1noz9abMfyRzeiP/E8FC1wkqU/3EvCQypAlb9zEg/g89FlP3Por3HrEU6/rxok9YT7mD90s+CBfy2aPyHLzKTuZXi/W3LkwlAtZL/deEl+n0OfP+2OkqRvqmU//pcd/Uo0eb+qD8JypyOrP2XrS5A+EKw/lz5doPzipD9BqGbplu1uv4MAqnCRR3E/GMCLUR6PVD/d1tvtaw6Cv1M2tGbq2ZO/DKy9rbTifz8pdnqMBOKHv/FAL80FKaA/C6gCwCvpdL+lgDdp1l6gP8S4LwQpUJ6/QETlCe7okD92CzyIzTqcPxkaFPe+QHQ/Beg+u8kKjL8lMxHmbieJP9LIOMaKN3o/qIE4LEACgz8haoc3Z/5/v3IiBtCJ4Y4/DW/Vt/Kflb9FpLsj6G6TP+xc9PMHK3C/NFomXko8gz+ILRGoZBOHvwb39YTmM2I/x0Lm8v0nmj9nwUpUBbmlP3/eU62czXI/HrddyVXgkT8gryH0fOhYPw==",
          "dtype": "f8"
         },
         "xaxis": "x5",
         "yaxis": "y5"
        }
       ],
       "layout": {
        "autosize": false,
        "height": 800,
        "template": {
         "data": {
          "bar": [
           {
            "error_x": {
             "color": "#2a3f5f"
            },
            "error_y": {
             "color": "#2a3f5f"
            },
            "marker": {
             "line": {
              "color": "#E5ECF6",
              "width": 0.5
             },
             "pattern": {
              "fillmode": "overlay",
              "size": 10,
              "solidity": 0.2
             }
            },
            "type": "bar"
           }
          ],
          "barpolar": [
           {
            "marker": {
             "line": {
              "color": "#E5ECF6",
              "width": 0.5
             },
             "pattern": {
              "fillmode": "overlay",
              "size": 10,
              "solidity": 0.2
             }
            },
            "type": "barpolar"
           }
          ],
          "carpet": [
           {
            "aaxis": {
             "endlinecolor": "#2a3f5f",
             "gridcolor": "white",
             "linecolor": "white",
             "minorgridcolor": "white",
             "startlinecolor": "#2a3f5f"
            },
            "baxis": {
             "endlinecolor": "#2a3f5f",
             "gridcolor": "white",
             "linecolor": "white",
             "minorgridcolor": "white",
             "startlinecolor": "#2a3f5f"
            },
            "type": "carpet"
           }
          ],
          "choropleth": [
           {
            "colorbar": {
             "outlinewidth": 0,
             "ticks": ""
            },
            "type": "choropleth"
           }
          ],
          "contour": [
           {
            "colorbar": {
             "outlinewidth": 0,
             "ticks": ""
            },
            "colorscale": [
             [
              0,
              "#0d0887"
             ],
             [
              0.1111111111111111,
              "#46039f"
             ],
             [
              0.2222222222222222,
              "#7201a8"
             ],
             [
              0.3333333333333333,
              "#9c179e"
             ],
             [
              0.4444444444444444,
              "#bd3786"
             ],
             [
              0.5555555555555556,
              "#d8576b"
             ],
             [
              0.6666666666666666,
              "#ed7953"
             ],
             [
              0.7777777777777778,
              "#fb9f3a"
             ],
             [
              0.8888888888888888,
              "#fdca26"
             ],
             [
              1,
              "#f0f921"
             ]
            ],
            "type": "contour"
           }
          ],
          "contourcarpet": [
           {
            "colorbar": {
             "outlinewidth": 0,
             "ticks": ""
            },
            "type": "contourcarpet"
           }
          ],
          "heatmap": [
           {
            "colorbar": {
             "outlinewidth": 0,
             "ticks": ""
            },
            "colorscale": [
             [
              0,
              "#0d0887"
             ],
             [
              0.1111111111111111,
              "#46039f"
             ],
             [
              0.2222222222222222,
              "#7201a8"
             ],
             [
              0.3333333333333333,
              "#9c179e"
             ],
             [
              0.4444444444444444,
              "#bd3786"
             ],
             [
              0.5555555555555556,
              "#d8576b"
             ],
             [
              0.6666666666666666,
              "#ed7953"
             ],
             [
              0.7777777777777778,
              "#fb9f3a"
             ],
             [
              0.8888888888888888,
              "#fdca26"
             ],
             [
              1,
              "#f0f921"
             ]
            ],
            "type": "heatmap"
           }
          ],
          "histogram": [
           {
            "marker": {
             "pattern": {
              "fillmode": "overlay",
              "size": 10,
              "solidity": 0.2
             }
            },
            "type": "histogram"
           }
          ],
          "histogram2d": [
           {
            "colorbar": {
             "outlinewidth": 0,
             "ticks": ""
            },
            "colorscale": [
             [
              0,
              "#0d0887"
             ],
             [
              0.1111111111111111,
              "#46039f"
             ],
             [
              0.2222222222222222,
              "#7201a8"
             ],
             [
              0.3333333333333333,
              "#9c179e"
             ],
             [
              0.4444444444444444,
              "#bd3786"
             ],
             [
              0.5555555555555556,
              "#d8576b"
             ],
             [
              0.6666666666666666,
              "#ed7953"
             ],
             [
              0.7777777777777778,
              "#fb9f3a"
             ],
             [
              0.8888888888888888,
              "#fdca26"
             ],
             [
              1,
              "#f0f921"
             ]
            ],
            "type": "histogram2d"
           }
          ],
          "histogram2dcontour": [
           {
            "colorbar": {
             "outlinewidth": 0,
             "ticks": ""
            },
            "colorscale": [
             [
              0,
              "#0d0887"
             ],
             [
              0.1111111111111111,
              "#46039f"
             ],
             [
              0.2222222222222222,
              "#7201a8"
             ],
             [
              0.3333333333333333,
              "#9c179e"
             ],
             [
              0.4444444444444444,
              "#bd3786"
             ],
             [
              0.5555555555555556,
              "#d8576b"
             ],
             [
              0.6666666666666666,
              "#ed7953"
             ],
             [
              0.7777777777777778,
              "#fb9f3a"
             ],
             [
              0.8888888888888888,
              "#fdca26"
             ],
             [
              1,
              "#f0f921"
             ]
            ],
            "type": "histogram2dcontour"
           }
          ],
          "mesh3d": [
           {
            "colorbar": {
             "outlinewidth": 0,
             "ticks": ""
            },
            "type": "mesh3d"
           }
          ],
          "parcoords": [
           {
            "line": {
             "colorbar": {
              "outlinewidth": 0,
              "ticks": ""
             }
            },
            "type": "parcoords"
           }
          ],
          "pie": [
           {
            "automargin": true,
            "type": "pie"
           }
          ],
          "scatter": [
           {
            "fillpattern": {
             "fillmode": "overlay",
             "size": 10,
             "solidity": 0.2
            },
            "type": "scatter"
           }
          ],
          "scatter3d": [
           {
            "line": {
             "colorbar": {
              "outlinewidth": 0,
              "ticks": ""
             }
            },
            "marker": {
             "colorbar": {
              "outlinewidth": 0,
              "ticks": ""
             }
            },
            "type": "scatter3d"
           }
          ],
          "scattercarpet": [
           {
            "marker": {
             "colorbar": {
              "outlinewidth": 0,
              "ticks": ""
             }
            },
            "type": "scattercarpet"
           }
          ],
          "scattergeo": [
           {
            "marker": {
             "colorbar": {
              "outlinewidth": 0,
              "ticks": ""
             }
            },
            "type": "scattergeo"
           }
          ],
          "scattergl": [
           {
            "marker": {
             "colorbar": {
              "outlinewidth": 0,
              "ticks": ""
             }
            },
            "type": "scattergl"
           }
          ],
          "scattermap": [
           {
            "marker": {
             "colorbar": {
              "outlinewidth": 0,
              "ticks": ""
             }
            },
            "type": "scattermap"
           }
          ],
          "scattermapbox": [
           {
            "marker": {
             "colorbar": {
              "outlinewidth": 0,
              "ticks": ""
             }
            },
            "type": "scattermapbox"
           }
          ],
          "scatterpolar": [
           {
            "marker": {
             "colorbar": {
              "outlinewidth": 0,
              "ticks": ""
             }
            },
            "type": "scatterpolar"
           }
          ],
          "scatterpolargl": [
           {
            "marker": {
             "colorbar": {
              "outlinewidth": 0,
              "ticks": ""
             }
            },
            "type": "scatterpolargl"
           }
          ],
          "scatterternary": [
           {
            "marker": {
             "colorbar": {
              "outlinewidth": 0,
              "ticks": ""
             }
            },
            "type": "scatterternary"
           }
          ],
          "surface": [
           {
            "colorbar": {
             "outlinewidth": 0,
             "ticks": ""
            },
            "colorscale": [
             [
              0,
              "#0d0887"
             ],
             [
              0.1111111111111111,
              "#46039f"
             ],
             [
              0.2222222222222222,
              "#7201a8"
             ],
             [
              0.3333333333333333,
              "#9c179e"
             ],
             [
              0.4444444444444444,
              "#bd3786"
             ],
             [
              0.5555555555555556,
              "#d8576b"
             ],
             [
              0.6666666666666666,
              "#ed7953"
             ],
             [
              0.7777777777777778,
              "#fb9f3a"
             ],
             [
              0.8888888888888888,
              "#fdca26"
             ],
             [
              1,
              "#f0f921"
             ]
            ],
            "type": "surface"
           }
          ],
          "table": [
           {
            "cells": {
             "fill": {
              "color": "#EBF0F8"
             },
             "line": {
              "color": "white"
             }
            },
            "header": {
             "fill": {
              "color": "#C8D4E3"
             },
             "line": {
              "color": "white"
             }
            },
            "type": "table"
           }
          ]
         },
         "layout": {
          "annotationdefaults": {
           "arrowcolor": "#2a3f5f",
           "arrowhead": 0,
           "arrowwidth": 1
          },
          "autotypenumbers": "strict",
          "coloraxis": {
           "colorbar": {
            "outlinewidth": 0,
            "ticks": ""
           }
          },
          "colorscale": {
           "diverging": [
            [
             0,
             "#8e0152"
            ],
            [
             0.1,
             "#c51b7d"
            ],
            [
             0.2,
             "#de77ae"
            ],
            [
             0.3,
             "#f1b6da"
            ],
            [
             0.4,
             "#fde0ef"
            ],
            [
             0.5,
             "#f7f7f7"
            ],
            [
             0.6,
             "#e6f5d0"
            ],
            [
             0.7,
             "#b8e186"
            ],
            [
             0.8,
             "#7fbc41"
            ],
            [
             0.9,
             "#4d9221"
            ],
            [
             1,
             "#276419"
            ]
           ],
           "sequential": [
            [
             0,
             "#0d0887"
            ],
            [
             0.1111111111111111,
             "#46039f"
            ],
            [
             0.2222222222222222,
             "#7201a8"
            ],
            [
             0.3333333333333333,
             "#9c179e"
            ],
            [
             0.4444444444444444,
             "#bd3786"
            ],
            [
             0.5555555555555556,
             "#d8576b"
            ],
            [
             0.6666666666666666,
             "#ed7953"
            ],
            [
             0.7777777777777778,
             "#fb9f3a"
            ],
            [
             0.8888888888888888,
             "#fdca26"
            ],
            [
             1,
             "#f0f921"
            ]
           ],
           "sequentialminus": [
            [
             0,
             "#0d0887"
            ],
            [
             0.1111111111111111,
             "#46039f"
            ],
            [
             0.2222222222222222,
             "#7201a8"
            ],
            [
             0.3333333333333333,
             "#9c179e"
            ],
            [
             0.4444444444444444,
             "#bd3786"
            ],
            [
             0.5555555555555556,
             "#d8576b"
            ],
            [
             0.6666666666666666,
             "#ed7953"
            ],
            [
             0.7777777777777778,
             "#fb9f3a"
            ],
            [
             0.8888888888888888,
             "#fdca26"
            ],
            [
             1,
             "#f0f921"
            ]
           ]
          },
          "colorway": [
           "#636efa",
           "#EF553B",
           "#00cc96",
           "#ab63fa",
           "#FFA15A",
           "#19d3f3",
           "#FF6692",
           "#B6E880",
           "#FF97FF",
           "#FECB52"
          ],
          "font": {
           "color": "#2a3f5f"
          },
          "geo": {
           "bgcolor": "white",
           "lakecolor": "white",
           "landcolor": "#E5ECF6",
           "showlakes": true,
           "showland": true,
           "subunitcolor": "white"
          },
          "hoverlabel": {
           "align": "left"
          },
          "hovermode": "closest",
          "mapbox": {
           "style": "light"
          },
          "paper_bgcolor": "white",
          "plot_bgcolor": "#E5ECF6",
          "polar": {
           "angularaxis": {
            "gridcolor": "white",
            "linecolor": "white",
            "ticks": ""
           },
           "bgcolor": "#E5ECF6",
           "radialaxis": {
            "gridcolor": "white",
            "linecolor": "white",
            "ticks": ""
           }
          },
          "scene": {
           "xaxis": {
            "backgroundcolor": "#E5ECF6",
            "gridcolor": "white",
            "gridwidth": 2,
            "linecolor": "white",
            "showbackground": true,
            "ticks": "",
            "zerolinecolor": "white"
           },
           "yaxis": {
            "backgroundcolor": "#E5ECF6",
            "gridcolor": "white",
            "gridwidth": 2,
            "linecolor": "white",
            "showbackground": true,
            "ticks": "",
            "zerolinecolor": "white"
           },
           "zaxis": {
            "backgroundcolor": "#E5ECF6",
            "gridcolor": "white",
            "gridwidth": 2,
            "linecolor": "white",
            "showbackground": true,
            "ticks": "",
            "zerolinecolor": "white"
           }
          },
          "shapedefaults": {
           "line": {
            "color": "#2a3f5f"
           }
          },
          "ternary": {
           "aaxis": {
            "gridcolor": "white",
            "linecolor": "white",
            "ticks": ""
           },
           "baxis": {
            "gridcolor": "white",
            "linecolor": "white",
            "ticks": ""
           },
           "bgcolor": "#E5ECF6",
           "caxis": {
            "gridcolor": "white",
            "linecolor": "white",
            "ticks": ""
           }
          },
          "title": {
           "x": 0.05
          },
          "xaxis": {
           "automargin": true,
           "gridcolor": "white",
           "linecolor": "white",
           "ticks": "",
           "title": {
            "standoff": 15
           },
           "zerolinecolor": "white",
           "zerolinewidth": 2
          },
          "yaxis": {
           "automargin": true,
           "gridcolor": "white",
           "linecolor": "white",
           "ticks": "",
           "title": {
            "standoff": 15
           },
           "zerolinecolor": "white",
           "zerolinewidth": 2
          }
         }
        },
        "title": {
         "text": "Frequency of Log Returns"
        },
        "width": 1000,
        "xaxis": {
         "anchor": "y",
         "domain": [
          0,
          0.45
         ],
         "title": {
          "text": "AAPL Annualize Volatility: 28.1%"
         }
        },
        "xaxis2": {
         "anchor": "y2",
         "domain": [
          0.55,
          1
         ],
         "title": {
          "text": "MSFT Annualize Volatility: 26.3%"
         }
        },
        "xaxis3": {
         "anchor": "y3",
         "domain": [
          0,
          0.45
         ],
         "title": {
          "text": "AMZN Annualize Volatility: 34.9%"
         }
        },
        "xaxis4": {
         "anchor": "y4",
         "domain": [
          0.55,
          1
         ],
         "title": {
          "text": "GOOGL Annualize Volatility: 32.3%"
         }
        },
        "xaxis5": {
         "anchor": "y5",
         "domain": [
          0,
          0.45
         ],
         "title": {
          "text": "NVDA Annualize Volatility: 53.5%"
         }
        },
        "xaxis6": {
         "anchor": "y6",
         "domain": [
          0.55,
          1
         ]
        },
        "yaxis": {
         "anchor": "x",
         "domain": [
          0.7333333333333333,
          1
         ]
        },
        "yaxis2": {
         "anchor": "x2",
         "domain": [
          0.7333333333333333,
          1
         ]
        },
        "yaxis3": {
         "anchor": "x3",
         "domain": [
          0.36666666666666664,
          0.6333333333333333
         ]
        },
        "yaxis4": {
         "anchor": "x4",
         "domain": [
          0.36666666666666664,
          0.6333333333333333
         ]
        },
        "yaxis5": {
         "anchor": "x5",
         "domain": [
          0,
          0.26666666666666666
         ]
        },
        "yaxis6": {
         "anchor": "x6",
         "domain": [
          0,
          0.26666666666666666
         ]
        }
       }
      }
     },
     "metadata": {},
     "output_type": "display_data"
    }
   ],
   "source": [
    "rows = 3\n",
    "cols = 2\n",
    "fig_histogram = make_subplots(rows=rows, cols=cols)\n",
    "traces = [\n",
    "    go.Histogram(x=logReturns[stock], name=stock) for stock in stocks\n",
    "]\n",
    "\n",
    "for idx, trace in enumerate(traces):\n",
    "    row, col = divmod(idx, cols)\n",
    "    fig_histogram.add_trace(trace, row=row+1, col=col+1)\n",
    "\n",
    "fig_histogram.update_layout(autosize=False, width=1000, height=800, title=\"Frequency of Log Returns\")\n",
    "for idx, stock in enumerate(stocks):\n",
    "    row, col = divmod(idx, cols)\n",
    "    fig_histogram.update_xaxes(\n",
    "        title_text=f'{stock} Annualize Volatility: {np.round(annualizeStdDev[stock]*100, 1)}%',\n",
    "        row=row+1,\n",
    "        col=col+1\n",
    "    )\n",
    "\n",
    "fig_histogram.show()"
   ]
  }
 ],
 "metadata": {
  "kernelspec": {
   "display_name": "finData",
   "language": "python",
   "name": "python3"
  },
  "language_info": {
   "codemirror_mode": {
    "name": "ipython",
    "version": 3
   },
   "file_extension": ".py",
   "mimetype": "text/x-python",
   "name": "python",
   "nbconvert_exporter": "python",
   "pygments_lexer": "ipython3",
   "version": "3.12.7"
  }
 },
 "nbformat": 4,
 "nbformat_minor": 5
}
