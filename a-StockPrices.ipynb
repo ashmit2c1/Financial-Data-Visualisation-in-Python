{
 "cells": [
  {
   "cell_type": "markdown",
   "id": "a8da2866",
   "metadata": {},
   "source": [
    "### Introduction to Stocks\n",
    "Stocks ( also called shares or equity ) represent ownership in a company, when one buys a stock, one is, in layman's terms, buying a small piece of that company, known as a share\n",
    "\n",
    "Key points about stocks are as follows\n",
    "- Owning a stock means you own a small part of the company\n",
    "- If the company ends up doing well, the value of the shares can go up and you receive dividends ( a share of the company profits )\n",
    "- If the company does poorly, you lose the money you invested \n",
    "- Stocks are typically bought and sold on stock exchanges like BSE, NSE, NYSE\n",
    "\n",
    "If you buy 10 shares of Apple stocks and Apple has 10 million shares in total, you own a tiny fraction of Apple. If the share price goes up from $150 to $200, then your investment grows, however if it drops down to $100 then we lose money on our investment\n",
    "\n",
    "To visualise this, in this project we are going to \n",
    "\n",
    "### Importing the required packages\n",
    "- Yahoo Finance ( `yfinance` )\n",
    "- Date time ( `datetime` )\n",
    "- Plotly ( `plotly` )\n"
   ]
  },
  {
   "cell_type": "code",
   "execution_count": 1,
   "id": "3b8ddf22",
   "metadata": {},
   "outputs": [],
   "source": [
    "import yfinance as yf \n",
    "import datetime as dt \n",
    "import plotly.express as px\n",
    "import plotly.io as pio"
   ]
  },
  {
   "cell_type": "markdown",
   "id": "6cf23f1d",
   "metadata": {},
   "source": [
    "Next, we are going to define the starting date and ending date, for the ending date, it is going to be the current date, for the starting date, we are going to use `timeDelta` and choose a date 3 years from current date "
   ]
  },
  {
   "cell_type": "code",
   "execution_count": 2,
   "id": "34b4c5b0",
   "metadata": {},
   "outputs": [],
   "source": [
    "enddate = dt.datetime.now()\n",
    "startdate = enddate - dt.timedelta(days=365*3)"
   ]
  },
  {
   "cell_type": "markdown",
   "id": "c4b6ef0e",
   "metadata": {},
   "source": [
    "Now that we have defined the date and time, we are going to choose the stocks that we are going to compare, for this we are going to use the `yfinance` package and we are going to choose the stocks of `AAPL` `AMZN` `MSFT` `GOOGL` and `NVDA` for our project "
   ]
  },
  {
   "cell_type": "code",
   "execution_count": 3,
   "id": "b60b8b8b",
   "metadata": {},
   "outputs": [],
   "source": [
    "stocks = [\"AAPL\",\"AMZN\",\"MSFT\",\"GOOGL\",\"NVDA\"]"
   ]
  },
  {
   "cell_type": "markdown",
   "id": "30fe9cd1",
   "metadata": {},
   "source": [
    "Next we are going to download all the data related to the given stocks, for this we are going to use the `yfinance` package, the `download` method is going to take in 3 parameters\n",
    "- List of Stocks\n",
    "- Starting date \n",
    "- Ending date"
   ]
  },
  {
   "cell_type": "code",
   "execution_count": 4,
   "id": "8991ac59",
   "metadata": {},
   "outputs": [
    {
     "name": "stderr",
     "output_type": "stream",
     "text": [
      "[*********************100%***********************]  5 of 5 completed\n"
     ]
    },
    {
     "name": "stdout",
     "output_type": "stream",
     "text": [
      "Price            Close                                                 \\\n",
      "Ticker            AAPL        AMZN       GOOGL        MSFT       NVDA   \n",
      "Date                                                                    \n",
      "2022-07-05  139.324799  113.500000  112.587776  256.347473  14.942446   \n",
      "2022-07-06  140.663315  114.330002  113.888969  259.624298  15.108208   \n",
      "2022-07-07  144.039139  116.330002  118.074860  261.760162  15.835158   \n",
      "2022-07-08  144.718216  115.540001  118.641960  261.038452  15.815189   \n",
      "2022-07-11  142.582489  111.750000  114.986885  257.966400  15.130177   \n",
      "\n",
      "Price             High                                                 ...  \\\n",
      "Ticker            AAPL        AMZN       GOOGL        MSFT       NVDA  ...   \n",
      "Date                                                                   ...   \n",
      "2022-07-05  139.374012  114.080002  112.701095  256.474262  14.949436  ...   \n",
      "2022-07-06  141.844364  115.480003  114.900405  261.360262  15.296936  ...   \n",
      "2022-07-07  144.235978  116.989998  118.478938  262.403838  15.922033  ...   \n",
      "2022-07-08  145.220173  116.580002  118.971481  261.467570  16.013903  ...   \n",
      "2022-07-11  144.324545  114.300003  117.294548  259.936417  15.504636  ...   \n",
      "\n",
      "Price             Open                                                 \\\n",
      "Ticker            AAPL        AMZN       GOOGL        MSFT       NVDA   \n",
      "Date                                                                    \n",
      "2022-07-05  135.594648  107.599998  106.462016  249.822972  14.154583   \n",
      "2022-07-06  139.118113  113.209999  112.626544  257.225164  14.988381   \n",
      "2022-07-07  141.027444  113.849998  114.393940  258.561306  15.433738   \n",
      "2022-07-08  142.966324  114.599998  116.551000  258.239457  15.407777   \n",
      "2022-07-11  143.369860  114.080002  117.294548  259.078183  15.503637   \n",
      "\n",
      "Price         Volume                                           \n",
      "Ticker          AAPL      AMZN     GOOGL      MSFT       NVDA  \n",
      "Date                                                           \n",
      "2022-07-05  73353800  76583700  39342000  22941000  651397000  \n",
      "2022-07-06  74064300  66958900  37432000  23824400  529066000  \n",
      "2022-07-07  66253700  57872300  40936000  20859900  492903000  \n",
      "2022-07-08  64547800  45719700  38238000  19658800  467972000  \n",
      "2022-07-11  63141600  53487600  31196000  19455200  437321000  \n",
      "\n",
      "[5 rows x 25 columns]\n"
     ]
    }
   ],
   "source": [
    "df = yf.download(stocks, start=startdate, end=enddate, auto_adjust=True)\n",
    "print(df.head())"
   ]
  },
  {
   "cell_type": "markdown",
   "id": "f7d82532",
   "metadata": {},
   "source": [
    "This is going to give us the `OPEN`, `CLOSE` and `HIGH` position, for our project, we are going to work with the `CLOSE` data\n",
    "\n",
    "`OPEN` - refers to the price of the stock, when the market opens for the day, it reflects the price at which the first trade\n",
    "\n",
    "`CLOSE` - refers to the price at which the stock was last traded when the market closes, this is often the most important price for daily charts and summaries\n",
    "\n",
    "`HIGH` - refers to the highest price that the stock reached during that day \n",
    "\n",
    "`LOW` - refers to the lowest price the stock reached during that day "
   ]
  },
  {
   "cell_type": "code",
   "execution_count": 5,
   "id": "0e5e01d2",
   "metadata": {},
   "outputs": [
    {
     "name": "stdout",
     "output_type": "stream",
     "text": [
      "Ticker            AAPL        AMZN       GOOGL        MSFT       NVDA\n",
      "Date                                                                 \n",
      "2022-07-05  139.324799  113.500000  112.587776  256.347473  14.942446\n",
      "2022-07-06  140.663315  114.330002  113.888969  259.624298  15.108208\n",
      "2022-07-07  144.039139  116.330002  118.074860  261.760162  15.835158\n",
      "2022-07-08  144.718216  115.540001  118.641960  261.038452  15.815189\n",
      "2022-07-11  142.582489  111.750000  114.986885  257.966400  15.130177\n"
     ]
    }
   ],
   "source": [
    "closeData = df['Close']\n",
    "print(closeData.head())"
   ]
  },
  {
   "cell_type": "markdown",
   "id": "890693ce",
   "metadata": {},
   "source": [
    "For data visualisation, we are going to use `plotly`, it is a popular library for interactive data visualisation \n",
    "\n",
    "We are going to start with importing the package and setting the renderer to `browser` this allows the plotly graphs to be rendered in the local browser \n",
    "\n",
    "We are going to draw a line graph using the `plotly.express` package with the given title. \n",
    "\n",
    "We can use plotly\n",
    "- To visualise the entire stocks list \n",
    "- To visualise a single stock ( for example - AAPL )"
   ]
  },
  {
   "cell_type": "code",
   "execution_count": 6,
   "id": "89e8f800",
   "metadata": {},
   "outputs": [],
   "source": [
    "\n",
    "pio.renderers.default = 'browser' \n",
    "\n",
    "figure = px.line(closeData, title=\"Stock price over time\")\n",
    "figure.show()\n"
   ]
  },
  {
   "cell_type": "code",
   "execution_count": 8,
   "id": "e8ab9ff9",
   "metadata": {},
   "outputs": [],
   "source": [
    "single_stock = closeData[['AAPL']].reset_index()\n",
    "\n",
    "figure = px.line(\n",
    "    single_stock,\n",
    "    x='Date',\n",
    "    y='AAPL',\n",
    "    title='AAPL Stock Price Over Time'\n",
    ")\n",
    "figure.show()"
   ]
  }
 ],
 "metadata": {
  "kernelspec": {
   "display_name": "finData",
   "language": "python",
   "name": "python3"
  },
  "language_info": {
   "codemirror_mode": {
    "name": "ipython",
    "version": 3
   },
   "file_extension": ".py",
   "mimetype": "text/x-python",
   "name": "python",
   "nbconvert_exporter": "python",
   "pygments_lexer": "ipython3",
   "version": "3.12.7"
  }
 },
 "nbformat": 4,
 "nbformat_minor": 5
}
