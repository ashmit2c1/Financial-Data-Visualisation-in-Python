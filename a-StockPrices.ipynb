{
 "cells": [
  {
   "cell_type": "markdown",
   "id": "a8da2866",
   "metadata": {},
   "source": [
    "## Importing the required packages\n",
    "- Yahoo Finance \n",
    "- Date time \n",
    "- Plotly\n"
   ]
  },
  {
   "cell_type": "code",
   "execution_count": 2,
   "id": "3b8ddf22",
   "metadata": {},
   "outputs": [],
   "source": [
    "import yfinance as yf \n",
    "import datetime as dt \n",
    "import plotly.express as px"
   ]
  },
  {
   "cell_type": "markdown",
   "id": "6cf23f1d",
   "metadata": {},
   "source": [
    "Next, we are going to define the starting date and ending date, for the ending date, it is going to be the current date, for the starting date, we are going to use `timeDelta` and choose a date 3 years from current date "
   ]
  },
  {
   "cell_type": "code",
   "execution_count": 3,
   "id": "34b4c5b0",
   "metadata": {},
   "outputs": [],
   "source": [
    "enddate = dt.datetime.now()\n",
    "startdate = enddate - dt.timedelta(days=365*3)"
   ]
  },
  {
   "cell_type": "markdown",
   "id": "c4b6ef0e",
   "metadata": {},
   "source": [
    "Now that we have defined the date and time, we are going to choose the stocks that we are going to compare, for this we are going to use the `yfinance` package and we are going to choose the stocks of `AAPL` `AMZN` `MSFT` `GOOGL` and `NVDA` for our project "
   ]
  },
  {
   "cell_type": "code",
   "execution_count": 4,
   "id": "b60b8b8b",
   "metadata": {},
   "outputs": [],
   "source": [
    "stocks = [\"AAPL\",\"AMZN\",\"MSFT\",\"GOOGL\",\"NVDA\"]"
   ]
  },
  {
   "cell_type": "markdown",
   "id": "30fe9cd1",
   "metadata": {},
   "source": [
    "Next we are going to download all the data related to the given stocks, for this we are going to use the `yfinance` package, the `download` method is going to take in 3 parameters\n",
    "- List of Stocks\n",
    "- Starting date \n",
    "- Ending date"
   ]
  },
  {
   "cell_type": "code",
   "execution_count": 5,
   "id": "8991ac59",
   "metadata": {},
   "outputs": [
    {
     "name": "stderr",
     "output_type": "stream",
     "text": [
      "[*********************100%***********************]  5 of 5 completed"
     ]
    },
    {
     "name": "stdout",
     "output_type": "stream",
     "text": [
      "Price            Close                                                 \\\n",
      "Ticker            AAPL        AMZN       GOOGL        MSFT       NVDA   \n",
      "Date                                                                    \n",
      "2022-07-05  139.324783  113.500000  112.587776  256.347443  14.942446   \n",
      "2022-07-06  140.663315  114.330002  113.888969  259.624329  15.108206   \n",
      "2022-07-07  144.039154  116.330002  118.074860  261.760162  15.835159   \n",
      "2022-07-08  144.718246  115.540001  118.641968  261.038422  15.815187   \n",
      "2022-07-11  142.582474  111.750000  114.986885  257.966400  15.130175   \n",
      "\n",
      "Price             High                                                 ...  \\\n",
      "Ticker            AAPL        AMZN       GOOGL        MSFT       NVDA  ...   \n",
      "Date                                                                   ...   \n",
      "2022-07-05  139.373997  114.080002  112.701095  256.474231  14.949436  ...   \n",
      "2022-07-06  141.844364  115.480003  114.900405  261.360293  15.296934  ...   \n",
      "2022-07-07  144.235993  116.989998  118.478938  262.403838  15.922034  ...   \n",
      "2022-07-08  145.220203  116.580002  118.971489  261.467539  16.013901  ...   \n",
      "2022-07-11  144.324529  114.300003  117.294548  259.936417  15.504634  ...   \n",
      "\n",
      "Price             Open                                                 \\\n",
      "Ticker            AAPL        AMZN       GOOGL        MSFT       NVDA   \n",
      "Date                                                                    \n",
      "2022-07-05  135.594634  107.599998  106.462016  249.822942  14.154583   \n",
      "2022-07-06  139.118113  113.209999  112.626544  257.225194  14.988379   \n",
      "2022-07-07  141.027459  113.849998  114.393940  258.561306  15.433739   \n",
      "2022-07-08  142.966354  114.599998  116.551008  258.239427  15.407775   \n",
      "2022-07-11  143.369845  114.080002  117.294548  259.078183  15.503636   \n",
      "\n",
      "Price         Volume                                           \n",
      "Ticker          AAPL      AMZN     GOOGL      MSFT       NVDA  \n",
      "Date                                                           \n",
      "2022-07-05  73353800  76583700  39342000  22941000  651397000  \n",
      "2022-07-06  74064300  66958900  37432000  23824400  529066000  \n",
      "2022-07-07  66253700  57872300  40936000  20859900  492903000  \n",
      "2022-07-08  64547800  45719700  38238000  19658800  467972000  \n",
      "2022-07-11  63141600  53487600  31196000  19455200  437321000  \n",
      "\n",
      "[5 rows x 25 columns]\n"
     ]
    },
    {
     "name": "stderr",
     "output_type": "stream",
     "text": [
      "\n"
     ]
    }
   ],
   "source": [
    "df = yf.download(stocks, start=startdate, end=enddate, auto_adjust=True)\n",
    "print(df.head())"
   ]
  },
  {
   "cell_type": "markdown",
   "id": "f7d82532",
   "metadata": {},
   "source": [
    "This is going to give us the `OPEN`, `CLOSE` and `HIGH` position, for our project, we are going to work with the `CLOSE` data"
   ]
  },
  {
   "cell_type": "code",
   "execution_count": null,
   "id": "b6bd3006",
   "metadata": {},
   "outputs": [],
   "source": []
  },
  {
   "cell_type": "code",
   "execution_count": 6,
   "id": "0e5e01d2",
   "metadata": {},
   "outputs": [
    {
     "name": "stdout",
     "output_type": "stream",
     "text": [
      "Ticker            AAPL        AMZN       GOOGL        MSFT       NVDA\n",
      "Date                                                                 \n",
      "2022-07-05  139.324783  113.500000  112.587776  256.347443  14.942446\n",
      "2022-07-06  140.663315  114.330002  113.888969  259.624329  15.108206\n",
      "2022-07-07  144.039154  116.330002  118.074860  261.760162  15.835159\n",
      "2022-07-08  144.718246  115.540001  118.641968  261.038422  15.815187\n",
      "2022-07-11  142.582474  111.750000  114.986885  257.966400  15.130175\n"
     ]
    }
   ],
   "source": [
    "closeData = df['Close']\n",
    "print(closeData.head())"
   ]
  },
  {
   "cell_type": "code",
   "execution_count": 9,
   "id": "89e8f800",
   "metadata": {},
   "outputs": [],
   "source": [
    "import plotly.io as pio\n",
    "pio.renderers.default = 'browser' \n",
    "\n",
    "figure = px.line(closeData, title=\"Stock price over time\")\n",
    "figure.show()\n"
   ]
  },
  {
   "cell_type": "code",
   "execution_count": 8,
   "id": "e8ab9ff9",
   "metadata": {},
   "outputs": [],
   "source": [
    "single_stock = closeData[['AAPL']].reset_index()\n",
    "\n",
    "figure = px.line(\n",
    "    single_stock,\n",
    "    x='Date',\n",
    "    y='AAPL',\n",
    "    title='AAPL Stock Price Over Time'\n",
    ")\n",
    "figure.show()"
   ]
  }
 ],
 "metadata": {
  "kernelspec": {
   "display_name": "finData",
   "language": "python",
   "name": "python3"
  },
  "language_info": {
   "codemirror_mode": {
    "name": "ipython",
    "version": 3
   },
   "file_extension": ".py",
   "mimetype": "text/x-python",
   "name": "python",
   "nbconvert_exporter": "python",
   "pygments_lexer": "ipython3",
   "version": "3.12.7"
  }
 },
 "nbformat": 4,
 "nbformat_minor": 5
}
